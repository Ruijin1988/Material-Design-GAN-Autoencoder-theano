{
 "cells": [
  {
   "cell_type": "code",
   "execution_count": 1,
   "metadata": {
    "collapsed": false
   },
   "outputs": [
    {
     "name": "stderr",
     "output_type": "stream",
     "text": [
      "WARNING (theano.gof.cmodule): ModuleCache.refresh() Found key without dll in cache, deleting it. C:\\Users\\p2admin\\AppData\\Local\\Theano\\compiledir_Windows-7-6.1.7601-SP1-Intel64_Family_6_Model_62_Stepping_4_GenuineIntel-2.7.12-64\\tmpds8poa\\key.pkl\n",
      "WARNING (theano.gof.compilelock): Overriding existing lock by dead process '17244' (I am process '8180')\n",
      "DEBUG: nvcc STDOUT mod.cu\n",
      "   Creating library C:/Users/p2admin/AppData/Local/Theano/compiledir_Windows-7-6.1.7601-SP1-Intel64_Family_6_Model_62_Stepping_4_GenuineIntel-2.7.12-64/tmpx88yrw/265abc51f7c376c224983485238ff1a5.lib and object C:/Users/p2admin/AppData/Local/Theano/compiledir_Windows-7-6.1.7601-SP1-Intel64_Family_6_Model_62_Stepping_4_GenuineIntel-2.7.12-64/tmpx88yrw/265abc51f7c376c224983485238ff1a5.exp\n",
      "\n",
      "Using gpu device 0: Quadro K2000 (CNMeM is disabled, cuDNN 5005)\n"
     ]
    }
   ],
   "source": [
    "import sys\n",
    "sys.path.append('..')\n",
    "\n",
    "import numpy as np\n",
    "import os\n",
    "from time import time\n",
    "from collections import Counter\n",
    "import random\n",
    "from matplotlib import pyplot as plt\n",
    "\n",
    "from lib.data_utils import shuffle\n",
    "#from lib.config import data_dir\n",
    "\n",
    "def mnist():\n",
    "    fd = open(os.path.join('train-images.idx3-ubyte'))\n",
    "    loaded = np.fromfile(file=fd,dtype=np.uint8)\n",
    "    trX = loaded[16:].reshape((60000,28*28)).astype(float)\n",
    "\n",
    "    fd = open(os.path.join('train-labels.idx1-ubyte'))\n",
    "    loaded = np.fromfile(file=fd,dtype=np.uint8)\n",
    "    trY = loaded[8:].reshape((60000))\n",
    "\n",
    "    fd = open(os.path.join('t10k-images.idx3-ubyte'))\n",
    "    loaded = np.fromfile(file=fd,dtype=np.uint8)\n",
    "    teX = loaded[16:].reshape((10000,28*28)).astype(float)\n",
    "\n",
    "    fd = open(os.path.join('t10k-labels.idx1-ubyte'))\n",
    "    loaded = np.fromfile(file=fd,dtype=np.uint8)\n",
    "    teY = loaded[8:].reshape((10000))\n",
    "    \n",
    "    trY = np.asarray(trY)\n",
    "    teY = np.asarray(teY)\n",
    "\n",
    "    return trX, teX, trY, teY\n",
    "\n",
    "def mnist_with_valid_set():\n",
    "    trX, teX, trY, teY = mnist()\n",
    "\n",
    "    trX, trY = shuffle(trX, trY)\n",
    "    vaX = trX[50000:]\n",
    "    vaY = trY[50000:]\n",
    "    trX = trX[:50000]\n",
    "    trY = trY[:50000]\n",
    "\n",
    "    return trX, vaX, teX, trY, vaY, teY"
   ]
  },
  {
   "cell_type": "code",
   "execution_count": 2,
   "metadata": {
    "collapsed": false
   },
   "outputs": [
    {
     "data": {
      "text/plain": [
       "'float32'"
      ]
     },
     "execution_count": 2,
     "metadata": {},
     "output_type": "execute_result"
    }
   ],
   "source": [
    "#data_dir='/home/dcgan_code-master/mnist'\n",
    "import theano\n",
    "theano.config.floatX='float32'\n",
    "theano.config.floatX"
   ]
  },
  {
   "cell_type": "code",
   "execution_count": 3,
   "metadata": {
    "collapsed": false
   },
   "outputs": [],
   "source": [
    "trX, vaX, teX, trY, vaY, teY = mnist_with_valid_set()\n",
    "import cv2\n",
    "data2=np.zeros((1000,64*64))\n",
    "trX=trX\n",
    "%matplotlib inline\n",
    "for i in range(1000):\n",
    "    XXX=trX[i,:].reshape(28,28)\n",
    "    temp=cv2.resize(XXX,(64,64))\n",
    "    #temp[temp>=0.5]=1\n",
    "    #temp[temp<=0.5]=0\n",
    "    temp=temp.reshape(-1)\n",
    "    data2[i,:]=np.round(temp/max(temp)*255.)"
   ]
  },
  {
   "cell_type": "code",
   "execution_count": 79,
   "metadata": {
    "collapsed": false
   },
   "outputs": [
    {
     "data": {
      "text/plain": [
       "<matplotlib.image.AxesImage at 0x2b697208>"
      ]
     },
     "execution_count": 79,
     "metadata": {},
     "output_type": "execute_result"
    },
    {
     "data": {
      "image/png": "[encoded data removed]",
      "text/plain": [
       "<matplotlib.figure.Figure at 0x2b74c5c0>"
      ]
     },
     "metadata": {},
     "output_type": "display_data"
    }
   ],
   "source": [
    "np.set_printoptions(threshold='nan')\n",
    "plt.imshow(data2[0].reshape(200,200),'gray')\n",
    "#plt.imshow(trX[0].reshape(28,28),'gray')"
   ]
  },
  {
   "cell_type": "code",
   "execution_count": 3,
   "metadata": {
    "collapsed": true
   },
   "outputs": [],
   "source": [
    "import numpy as np\n",
    "import theano\n",
    "import theano.tensor as tensor\n",
    "from theano.tensor.signal.pool import pool_2d\n",
    "from theano.tensor.nnet import conv2d\n",
    "\n",
    "def conv( x, w, b=None ):\n",
    "    s = int(np.floor(w.get_value().shape[-1]/2.))\n",
    "    z = conv2d(x, w, border_mode='full')[:, :, s:-s, s:-s]\n",
    "    if b is not None:\n",
    "        z += b.dimshuffle('x', 0, 'x', 'x')\n",
    "    \n",
    "    return z\n",
    "        \n",
    "def max_pool( x, size, ignore_border=False ):\n",
    "    return pool_2d( x, size, ignore_border=ignore_border )\n",
    "\n",
    "def rectify( x ):\n",
    "    return (x + abs(x)) / 2.0\n",
    "\n",
    "def batchnorm( x, g=None, b=None, eps=1e-8 ):\n",
    "    if x.ndim == 4:\n",
    "        m = tensor.mean(x, axis=[0, 2, 3]).dimshuffle('x', 0, 'x', 'x')\n",
    "        v = tensor.mean(tensor.sqr(x - m), \n",
    "                          axis=[0, 2, 3]).dimshuffle('x', 0, 'x', 'x')\n",
    "\n",
    "        x = (x - m) / tensor.sqrt( v + eps )\n",
    "        if g is not None and b is not None:\n",
    "            x = x*g.dimshuffle('x', 0, 'x', 'x') + b.dimshuffle('x', 0, 'x', 'x')\n",
    "\n",
    "    elif x.ndim == 2:\n",
    "        m = tensor.mean(x, axis=0)\n",
    "        v = tensor.mean(tensor.sqr(x - m), axis=0)\n",
    "\n",
    "        x = (x - m) / tensor.sqrt( v + eps )\n",
    "        if g is not None and b is not None:\n",
    "            x = x*g + b\n",
    "\n",
    "    return x\n",
    "\n",
    "def depool( x, factor=2 ):\n",
    "    \"\"\"\n",
    "    This code is from \n",
    "    https://gist.github.com/kastnerkyle/f3f67424adda343fef40\n",
    "    \"\"\"\n",
    "    output_shape = [\n",
    "        x.shape[1],\n",
    "        x.shape[2]*factor,\n",
    "        x.shape[3]*factor\n",
    "    ]\n",
    "    stride = x.shape[2]\n",
    "    offset = x.shape[3]\n",
    "    in_dim = stride * offset\n",
    "    out_dim = in_dim * factor * factor\n",
    "\n",
    "    upsamp_matrix = tensor.zeros((in_dim, out_dim))\n",
    "    rows = tensor.arange(in_dim)\n",
    "    cols = rows*factor + (rows/stride * factor * offset)\n",
    "    upsamp_matrix = tensor.set_subtensor(upsamp_matrix[rows, cols], 1.)\n",
    "\n",
    "    flat = tensor.reshape(x, (x.shape[0], output_shape[0], x.shape[2] * x.shape[3]))\n",
    "\n",
    "    up_flat = tensor.dot(flat, upsamp_matrix)\n",
    "    upsamp = tensor.reshape(up_flat, (x.shape[0], output_shape[0],\n",
    "                                      output_shape[1], output_shape[2]))\n",
    "\n",
    "    return upsamp\n",
    "\n",
    "def full_conn( x, w, b=None ):\n",
    "    return tensor.dot( x, w ) + b\n",
    "\n",
    "def leaky_rectify( x, leak=0.2 ):\n",
    "    f1 = 0.5 * (1 + leak)\n",
    "    f2 = 0.5 * (1 - leak)\n",
    "    return f1 * x + f2 * abs(x) "
   ]
  },
  {
   "cell_type": "code",
   "execution_count": 4,
   "metadata": {
    "collapsed": false
   },
   "outputs": [],
   "source": [
    "trX, vaX, teX, trY, vaY, teY = mnist_with_valid_set()\n",
    "np.set_printoptions(threshold='nan')"
   ]
  },
  {
   "cell_type": "code",
   "execution_count": 5,
   "metadata": {
    "collapsed": false,
    "scrolled": true
   },
   "outputs": [],
   "source": [
    "import sys\n",
    "sys.path.append('..')\n",
    "\n",
    "import os\n",
    "import json\n",
    "from time import time\n",
    "import numpy as np\n",
    "from tqdm import tqdm\n",
    "from matplotlib import pyplot as plt\n",
    "from sklearn.externals import joblib\n",
    "\n",
    "import theano\n",
    "import theano.tensor as T\n",
    "from theano.sandbox.cuda.dnn import dnn_conv\n",
    "\n",
    "from lib import activations\n",
    "from lib import updates\n",
    "from lib import inits\n",
    "from lib.vis import grayscale_grid_vis\n",
    "from lib.rng import py_rng, np_rng\n",
    "from lib.ops import batchnorm, conv_cond_concat, deconv, dropout\n",
    "from lib.theano_utils import floatX, sharedX\n",
    "from lib.data_utils import OneHot, shuffle, iter_data\n",
    "from lib.metrics import nnc_score, nnd_score\n",
    "\n",
    "trX, vaX, teX, trY, vaY, teY = mnist_with_valid_set()\n",
    "\n",
    "#trX=data2\n",
    "trX = trX[0:1000]\n",
    "vaX = floatX(vaX[0:1000])/255.\n",
    "\n",
    "k = 1             # # of discrim updates for each gen update\n",
    "l2 = 2.5e-5       # l2 weight decay\n",
    "b1 = 0.5          # momentum term of adam\n",
    "nc = 1            # # of channels in image\n",
    "ny = 10           # # of classes\n",
    "nbatch = 100      # # of examples in batch\n",
    "npx = 28          # # of pixels width/height of images\n",
    "nz = 100          # # of dim for Z\n",
    "ngfc = 1024       # # of gen units for fully connected layers\n",
    "ndfc = 1024       # # of discrim units for fully connected layers\n",
    "ngf = 64          # # of gen filters in first conv layer\n",
    "ndf = 64          # # of discrim filters in first conv layer\n",
    "nx = npx*npx*nc   # # of dimensions in X\n",
    "niter = 100       # # of iter at starting learning rate\n",
    "niter_decay = 100 # # of iter to linearly decay learning rate to zero\n",
    "lr = 0.0002       # initial learning rate for adam\n",
    "ntrain, nval, ntest = len(trX), len(vaX), len(teX)\n",
    "\n",
    "def transform(X):\n",
    "    return (floatX(X)/255.).reshape(-1, nc, npx, npx)\n",
    "\n",
    "def inverse_transform(X):\n",
    "    X = X.reshape(-1, npx, npx)\n",
    "    return X\n",
    "\n",
    "\n",
    "\n",
    "relu = activations.Rectify()\n",
    "sigmoid = activations.Sigmoid()\n",
    "lrelu = activations.LeakyRectify()\n",
    "bce = T.nnet.binary_crossentropy\n",
    "\n",
    "gifn = inits.Normal(scale=0.02)\n",
    "difn = inits.Normal(scale=0.02)\n",
    "gain_ifn = inits.Normal(loc=1., scale=0.02)\n",
    "bias_ifn = inits.Constant(c=0.)\n",
    "\n",
    "# encoder\n",
    "ew  = difn((ndf, nc, 5, 5), 'ew')\n",
    "eg = gain_ifn((ndf), 'eg')\n",
    "eb = bias_ifn((ndf), 'eb')\n",
    "\n",
    "ew2 = difn((ndf*2, ndf, 5, 5), 'ew2')\n",
    "eg2 = gain_ifn((ndf*2), 'eg2')\n",
    "eb2 = bias_ifn((ndf*2), 'eb2')\n",
    "\n",
    "ew3 = difn((ndf*2*7*7, ndfc), 'ew3')\n",
    "eg3 = gain_ifn((ndfc), 'eg3')\n",
    "eb3 = bias_ifn((ndfc), 'eb3')\n",
    "\n",
    "bmu = bias_ifn((nz), 'bmu')\n",
    "wmu = difn((ndf*2*7*7, nz), 'wmu')\n",
    "bsigma = bias_ifn((nz), 'bsigma')\n",
    "wsigma = difn((ndf*2*7*7, nz), 'wsigma')\n",
    "\n",
    "# generate\n",
    "gw  = gifn((nz, ngfc), 'gw')\n",
    "gg = gain_ifn((ngfc), 'gg')\n",
    "gb = bias_ifn((ngfc), 'gb')\n",
    "\n",
    "gw2 = gifn((ngfc, ngf*2*7*7), 'gw2')\n",
    "gg2 = gain_ifn((ngf*2*7*7), 'gg2')\n",
    "gb2 = bias_ifn((ngf*2*7*7), 'gb2')\n",
    "\n",
    "gw3 = gifn((ngf*2, ngf, 5, 5), 'gw3')\n",
    "gg3 = gain_ifn((ngf), 'gg3')\n",
    "gb3 = bias_ifn((ngf), 'gb3')\n",
    "gwx = gifn((ngf, nc, 5, 5), 'gwx')\n",
    "\n",
    "# discrim\n",
    "dw  = difn((ndf, nc, 5, 5), 'dw')\n",
    "\n",
    "dw2 = difn((ndf*2, ndf, 5, 5), 'dw2')\n",
    "dg2 = gain_ifn((ndf*2), 'dg2')\n",
    "db2 = bias_ifn((ndf*2), 'db2')\n",
    "\n",
    "dw3 = difn((ndf*2*7*7, ndfc), 'dw3')\n",
    "dg3 = gain_ifn((ndfc), 'dg3')\n",
    "db3 = bias_ifn((ndfc), 'db3')\n",
    "\n",
    "dwy = difn((ndfc, 1), 'dwy')\n",
    "\n",
    "enc_params = [ew, eg, eb, ew2, eg2, eb2, wmu, bmu, wsigma, bsigma]\n",
    "gen_params = [gw, gg, gb, gw2, gg2, gb2, gw3, gg3, gb3, gwx]\n",
    "dis_params = [dw,dw2,dg2,db2, dw3,dg3,db3, dwy]\n",
    "\n",
    "def enc(X, w, eg1, eb1, w2, eg2, eb2, wmu, bmu, wsigma, bsigma):\n",
    "    h1 = relu(batchnorm(dnn_conv(X, w, subsample=(2, 2), border_mode=(2, 2)),g=eg1, b=eb1))\n",
    "    h2 = relu(batchnorm(dnn_conv(h1, w2, subsample=(2, 2), border_mode=(2, 2)),g=eg2, b=eb2))\n",
    "    h3 = T.flatten(h2, 2)\n",
    "    z_mu = T.dot(h3, wmu) + bmu\n",
    "    z_log_sigma = 0.5 * (T.dot(h3, wsigma) + bsigma)\n",
    "    z = z_mu + T.exp(z_log_sigma) \n",
    "    return z_mu, z_log_sigma, z\n",
    "\n",
    "def gen(Z, w, gg, gb, w2, gg2, gb2, w3, gg3, gb3, wx):\n",
    "    h = relu(batchnorm(T.dot(Z, w),g=gg,b=gb))\n",
    "    h2 = relu(batchnorm(T.dot(h, w2),g=gg2,b=gb2))\n",
    "    h2 = h2.reshape((h2.shape[0], ngf*2, 7, 7))\n",
    "    h3 = relu(batchnorm(deconv(h2, w3, subsample=(2, 2), border_mode=(2, 2)),g=gg3,b=gb3))\n",
    "    x = sigmoid(deconv(h3, wx, subsample=(2, 2), border_mode=(2, 2)))\n",
    "    return x\n",
    "\n",
    "def dis(X, w, w2, dg2, db2, w3, dg3, db3, wy):\n",
    "    h = lrelu(dnn_conv(X, w, subsample=(2, 2), border_mode=(2, 2)))\n",
    "    h2 = lrelu(batchnorm(dnn_conv(h, w2, subsample=(2, 2), border_mode=(2, 2)),g=dg2,b=db2))\n",
    "    feature = h2\n",
    "    h3 = T.flatten(h2, 2)\n",
    "    h4 = lrelu(batchnorm(T.dot(h3, w3), g=dg3,b=db3))\n",
    "    y = sigmoid(T.dot(h4, wy))\n",
    "    return y, feature\n",
    "\n",
    "X = T.tensor4()\n",
    "Z = T.matrix() "
   ]
  },
  {
   "cell_type": "code",
   "execution_count": 10,
   "metadata": {
    "collapsed": false,
    "scrolled": true
   },
   "outputs": [
    {
     "name": "stderr",
     "output_type": "stream",
     "text": [
      "100%|██████████████████████████████████████████| 10/10 [00:04<00:00,  2.03it/s]\n",
      "100%|██████████████████████████████████████████| 10/10 [00:04<00:00,  2.12it/s]\n",
      "100%|██████████████████████████████████████████| 10/10 [00:04<00:00,  2.13it/s]\n",
      "100%|██████████████████████████████████████████| 10/10 [00:04<00:00,  2.03it/s]\n",
      "100%|██████████████████████████████████████████| 10/10 [00:04<00:00,  2.05it/s]\n",
      "100%|██████████████████████████████████████████| 10/10 [00:04<00:00,  2.07it/s]\n",
      "100%|██████████████████████████████████████████| 10/10 [00:04<00:00,  2.14it/s]\n",
      "100%|██████████████████████████████████████████| 10/10 [00:04<00:00,  2.10it/s]\n",
      "100%|██████████████████████████████████████████| 10/10 [00:04<00:00,  2.05it/s]\n",
      "100%|██████████████████████████████████████████| 10/10 [00:04<00:00,  2.07it/s]\n",
      "100%|██████████████████████████████████████████| 10/10 [00:04<00:00,  2.06it/s]\n",
      "100%|██████████████████████████████████████████| 10/10 [00:05<00:00,  2.05it/s]\n",
      "100%|██████████████████████████████████████████| 10/10 [00:04<00:00,  2.02it/s]\n",
      "100%|██████████████████████████████████████████| 10/10 [00:04<00:00,  2.07it/s]\n",
      "100%|██████████████████████████████████████████| 10/10 [00:04<00:00,  2.12it/s]\n",
      "100%|██████████████████████████████████████████| 10/10 [00:04<00:00,  2.13it/s]\n",
      "100%|██████████████████████████████████████████| 10/10 [00:04<00:00,  2.13it/s]\n",
      "100%|██████████████████████████████████████████| 10/10 [00:04<00:00,  2.11it/s]\n",
      "100%|██████████████████████████████████████████| 10/10 [00:04<00:00,  2.12it/s]\n",
      "100%|██████████████████████████████████████████| 10/10 [00:04<00:00,  2.11it/s]\n",
      "100%|██████████████████████████████████████████| 10/10 [00:04<00:00,  2.08it/s]\n",
      "100%|██████████████████████████████████████████| 10/10 [00:04<00:00,  2.09it/s]\n",
      "100%|██████████████████████████████████████████| 10/10 [00:04<00:00,  2.14it/s]\n",
      "100%|██████████████████████████████████████████| 10/10 [00:04<00:00,  2.14it/s]\n",
      "100%|██████████████████████████████████████████| 10/10 [00:04<00:00,  2.14it/s]\n",
      "100%|██████████████████████████████████████████| 10/10 [00:04<00:00,  2.12it/s]\n",
      "100%|██████████████████████████████████████████| 10/10 [00:04<00:00,  2.14it/s]\n",
      "100%|██████████████████████████████████████████| 10/10 [00:04<00:00,  2.09it/s]\n",
      "100%|██████████████████████████████████████████| 10/10 [00:04<00:00,  2.12it/s]\n",
      "100%|██████████████████████████████████████████| 10/10 [00:04<00:00,  2.08it/s]\n",
      "100%|██████████████████████████████████████████| 10/10 [00:04<00:00,  2.12it/s]\n",
      "100%|██████████████████████████████████████████| 10/10 [00:04<00:00,  2.02it/s]\n",
      "100%|██████████████████████████████████████████| 10/10 [00:04<00:00,  2.07it/s]\n",
      "100%|██████████████████████████████████████████| 10/10 [00:04<00:00,  2.12it/s]\n",
      "100%|██████████████████████████████████████████| 10/10 [00:04<00:00,  2.08it/s]\n",
      "100%|██████████████████████████████████████████| 10/10 [00:04<00:00,  2.06it/s]\n",
      "100%|██████████████████████████████████████████| 10/10 [00:04<00:00,  2.13it/s]\n",
      "100%|██████████████████████████████████████████| 10/10 [00:04<00:00,  2.07it/s]\n",
      "100%|██████████████████████████████████████████| 10/10 [00:04<00:00,  2.14it/s]\n",
      "100%|██████████████████████████████████████████| 10/10 [00:04<00:00,  2.19it/s]\n",
      "100%|██████████████████████████████████████████| 10/10 [00:04<00:00,  2.10it/s]\n",
      "100%|██████████████████████████████████████████| 10/10 [00:04<00:00,  2.09it/s]\n",
      "100%|██████████████████████████████████████████| 10/10 [00:04<00:00,  2.05it/s]\n",
      "100%|██████████████████████████████████████████| 10/10 [00:04<00:00,  2.12it/s]\n",
      "100%|██████████████████████████████████████████| 10/10 [00:04<00:00,  2.13it/s]\n",
      "100%|██████████████████████████████████████████| 10/10 [00:04<00:00,  2.14it/s]\n",
      "100%|██████████████████████████████████████████| 10/10 [00:04<00:00,  2.13it/s]\n",
      "100%|██████████████████████████████████████████| 10/10 [00:04<00:00,  2.15it/s]\n",
      "100%|██████████████████████████████████████████| 10/10 [00:04<00:00,  1.97it/s]\n",
      " 20%|████████▌                                  | 2/10 [00:00<00:03,  2.13it/s]\n"
     ]
    },
    {
     "ename": "KeyboardInterrupt",
     "evalue": "",
     "output_type": "error",
     "traceback": [
      "\u001b[1;31m---------------------------------------------------------------------------\u001b[0m",
      "\u001b[1;31mKeyboardInterrupt\u001b[0m                         Traceback (most recent call last)",
      "\u001b[1;32m<ipython-input-10-8982e9040d03>\u001b[0m in \u001b[0;36m<module>\u001b[1;34m()\u001b[0m\n\u001b[0;32m     46\u001b[0m             \u001b[0mcost\u001b[0m \u001b[1;33m=\u001b[0m \u001b[0m_train_g\u001b[0m\u001b[1;33m(\u001b[0m\u001b[0mimb\u001b[0m\u001b[1;33m,\u001b[0m \u001b[0mzmb\u001b[0m\u001b[1;33m)\u001b[0m\u001b[1;33m\u001b[0m\u001b[0m\n\u001b[0;32m     47\u001b[0m         \u001b[1;32melse\u001b[0m\u001b[1;33m:\u001b[0m\u001b[1;33m\u001b[0m\u001b[0m\n\u001b[1;32m---> 48\u001b[1;33m             \u001b[0mcost\u001b[0m \u001b[1;33m=\u001b[0m \u001b[0m_train_d\u001b[0m\u001b[1;33m(\u001b[0m\u001b[0mimb\u001b[0m\u001b[1;33m,\u001b[0m \u001b[0mzmb\u001b[0m\u001b[1;33m)\u001b[0m\u001b[1;33m\u001b[0m\u001b[0m\n\u001b[0m\u001b[0;32m     49\u001b[0m         \u001b[0mn_updates\u001b[0m \u001b[1;33m+=\u001b[0m \u001b[1;36m1\u001b[0m\u001b[1;33m\u001b[0m\u001b[0m\n\u001b[0;32m     50\u001b[0m         \u001b[0mn_examples\u001b[0m \u001b[1;33m+=\u001b[0m \u001b[0mlen\u001b[0m\u001b[1;33m(\u001b[0m\u001b[0mimb\u001b[0m\u001b[1;33m)\u001b[0m\u001b[1;33m\u001b[0m\u001b[0m\n",
      "\u001b[1;32mc:\\anaconda\\lib\\site-packages\\theano\\compile\\function_module.pyc\u001b[0m in \u001b[0;36m__call__\u001b[1;34m(self, *args, **kwargs)\u001b[0m\n\u001b[0;32m    857\u001b[0m         \u001b[0mt0_fn\u001b[0m \u001b[1;33m=\u001b[0m \u001b[0mtime\u001b[0m\u001b[1;33m.\u001b[0m\u001b[0mtime\u001b[0m\u001b[1;33m(\u001b[0m\u001b[1;33m)\u001b[0m\u001b[1;33m\u001b[0m\u001b[0m\n\u001b[0;32m    858\u001b[0m         \u001b[1;32mtry\u001b[0m\u001b[1;33m:\u001b[0m\u001b[1;33m\u001b[0m\u001b[0m\n\u001b[1;32m--> 859\u001b[1;33m             \u001b[0moutputs\u001b[0m \u001b[1;33m=\u001b[0m \u001b[0mself\u001b[0m\u001b[1;33m.\u001b[0m\u001b[0mfn\u001b[0m\u001b[1;33m(\u001b[0m\u001b[1;33m)\u001b[0m\u001b[1;33m\u001b[0m\u001b[0m\n\u001b[0m\u001b[0;32m    860\u001b[0m         \u001b[1;32mexcept\u001b[0m \u001b[0mException\u001b[0m\u001b[1;33m:\u001b[0m\u001b[1;33m\u001b[0m\u001b[0m\n\u001b[0;32m    861\u001b[0m             \u001b[1;32mif\u001b[0m \u001b[0mhasattr\u001b[0m\u001b[1;33m(\u001b[0m\u001b[0mself\u001b[0m\u001b[1;33m.\u001b[0m\u001b[0mfn\u001b[0m\u001b[1;33m,\u001b[0m \u001b[1;34m'position_of_error'\u001b[0m\u001b[1;33m)\u001b[0m\u001b[1;33m:\u001b[0m\u001b[1;33m\u001b[0m\u001b[0m\n",
      "\u001b[1;31mKeyboardInterrupt\u001b[0m: "
     ]
    }
   ],
   "source": [
    "# Pretraining\n",
    "gX = gen(Z, *gen_params)\n",
    "\n",
    "p_real,_ = dis(X, *dis_params)\n",
    "p_gen,_ = dis(gX, *dis_params)\n",
    "\n",
    "d_cost_real = bce(p_real, T.ones(p_real.shape)).mean()\n",
    "d_cost_gen = bce(p_gen, T.zeros(p_gen.shape)).mean()\n",
    "g_cost_d = bce(p_gen, T.ones(p_gen.shape)).mean()\n",
    "\n",
    "d_cost = d_cost_real + d_cost_gen\n",
    "g_cost = g_cost_d\n",
    "\n",
    "cost = [g_cost, d_cost, g_cost_d, d_cost_real, d_cost_gen]\n",
    "\n",
    "lrt = sharedX(lr)\n",
    "d_updater = updates.Adam(lr=lrt, b1=b1, regularizer=updates.Regularizer(l2=l2))\n",
    "g_updater = updates.Adam(lr=lrt, b1=b1, regularizer=updates.Regularizer(l2=l2))\n",
    "d_updates = d_updater(dis_params, d_cost)\n",
    "g_updates = g_updater(gen_params, g_cost)\n",
    "#updates = d_updates + g_updates\n",
    "\n",
    "print 'COMPILING'\n",
    "t = time()\n",
    "_train_g = theano.function([X, Z], cost, updates=g_updates)\n",
    "_train_d = theano.function([X, Z], cost, updates=d_updates)\n",
    "_gen = theano.function([Z], gX)\n",
    "print '%.2f seconds to compile theano functions'%(time()-t)\n",
    "\n",
    "sample_zmb = floatX(np_rng.uniform(-1., 1., size=(200, nz)))\n",
    "\n",
    "\n",
    "n_updates = 0\n",
    "n_check = 0\n",
    "n_epochs = 0\n",
    "n_updates = 0\n",
    "n_examples = 0\n",
    "t = time()\n",
    "for epoch in range(1, niter+niter_decay+1):\n",
    "    trX= shuffle(trX)\n",
    "    for imb in tqdm(iter_data(trX, size=nbatch), total=ntrain/nbatch):\n",
    "        imb = transform(imb)\n",
    "        #ymb = floatX(OneHot(ymb, ny))\n",
    "        zmb = floatX(np_rng.uniform(-1., 1., size=(len(imb), nz)))\n",
    "        if n_updates % (k+1) == 0:\n",
    "            cost = _train_g(imb, zmb)\n",
    "        else:\n",
    "            cost = _train_d(imb, zmb)\n",
    "        n_updates += 1\n",
    "        n_examples += len(imb)\n",
    "    #if (epoch-1) % 5 == 0:\n",
    "    g_cost = float(cost[0])\n",
    "    d_cost = float(cost[1])\n",
    "    #print g_cost, d_cost"
   ]
  },
  {
   "cell_type": "code",
   "execution_count": 12,
   "metadata": {
    "collapsed": false
   },
   "outputs": [
    {
     "ename": "AttributeError",
     "evalue": "'list' object has no attribute 'Adam'",
     "output_type": "error",
     "traceback": [
      "\u001b[1;31m---------------------------------------------------------------------------\u001b[0m",
      "\u001b[1;31mAttributeError\u001b[0m                            Traceback (most recent call last)",
      "\u001b[1;32m<ipython-input-12-973248b7c917>\u001b[0m in \u001b[0;36m<module>\u001b[1;34m()\u001b[0m\n\u001b[0;32m     36\u001b[0m \u001b[1;33m\u001b[0m\u001b[0m\n\u001b[0;32m     37\u001b[0m \u001b[0mlrt\u001b[0m \u001b[1;33m=\u001b[0m \u001b[0msharedX\u001b[0m\u001b[1;33m(\u001b[0m\u001b[0mlr\u001b[0m\u001b[1;33m)\u001b[0m\u001b[1;33m\u001b[0m\u001b[0m\n\u001b[1;32m---> 38\u001b[1;33m \u001b[0menc_updater\u001b[0m \u001b[1;33m=\u001b[0m \u001b[0mupdates\u001b[0m\u001b[1;33m.\u001b[0m\u001b[0mAdam\u001b[0m\u001b[1;33m(\u001b[0m\u001b[0mlr\u001b[0m\u001b[1;33m=\u001b[0m\u001b[0mlrt\u001b[0m\u001b[1;33m,\u001b[0m \u001b[0mb1\u001b[0m\u001b[1;33m=\u001b[0m\u001b[0mb1\u001b[0m\u001b[1;33m,\u001b[0m \u001b[0mregularizer\u001b[0m\u001b[1;33m=\u001b[0m\u001b[0mupdates\u001b[0m\u001b[1;33m.\u001b[0m\u001b[0mRegularizer\u001b[0m\u001b[1;33m(\u001b[0m\u001b[0ml2\u001b[0m\u001b[1;33m=\u001b[0m\u001b[0ml2\u001b[0m\u001b[1;33m)\u001b[0m\u001b[1;33m)\u001b[0m\u001b[1;33m\u001b[0m\u001b[0m\n\u001b[0m\u001b[0;32m     39\u001b[0m \u001b[0mgen_updater\u001b[0m \u001b[1;33m=\u001b[0m \u001b[0mupdates\u001b[0m\u001b[1;33m.\u001b[0m\u001b[0mAdam\u001b[0m\u001b[1;33m(\u001b[0m\u001b[0mlr\u001b[0m\u001b[1;33m=\u001b[0m\u001b[0mlrt\u001b[0m\u001b[1;33m,\u001b[0m \u001b[0mb1\u001b[0m\u001b[1;33m=\u001b[0m\u001b[0mb1\u001b[0m\u001b[1;33m,\u001b[0m \u001b[0mregularizer\u001b[0m\u001b[1;33m=\u001b[0m\u001b[0mupdates\u001b[0m\u001b[1;33m.\u001b[0m\u001b[0mRegularizer\u001b[0m\u001b[1;33m(\u001b[0m\u001b[0ml2\u001b[0m\u001b[1;33m=\u001b[0m\u001b[0ml2\u001b[0m\u001b[1;33m)\u001b[0m\u001b[1;33m)\u001b[0m\u001b[1;33m\u001b[0m\u001b[0m\n\u001b[0;32m     40\u001b[0m \u001b[0mdis_updater\u001b[0m \u001b[1;33m=\u001b[0m \u001b[0mupdates\u001b[0m\u001b[1;33m.\u001b[0m\u001b[0mAdam\u001b[0m\u001b[1;33m(\u001b[0m\u001b[0mlr\u001b[0m\u001b[1;33m=\u001b[0m\u001b[0mlrt\u001b[0m\u001b[1;33m,\u001b[0m \u001b[0mb1\u001b[0m\u001b[1;33m=\u001b[0m\u001b[0mb1\u001b[0m\u001b[1;33m,\u001b[0m \u001b[0mregularizer\u001b[0m\u001b[1;33m=\u001b[0m\u001b[0mupdates\u001b[0m\u001b[1;33m.\u001b[0m\u001b[0mRegularizer\u001b[0m\u001b[1;33m(\u001b[0m\u001b[0ml2\u001b[0m\u001b[1;33m=\u001b[0m\u001b[0ml2\u001b[0m\u001b[1;33m)\u001b[0m\u001b[1;33m)\u001b[0m\u001b[1;33m\u001b[0m\u001b[0m\n",
      "\u001b[1;31mAttributeError\u001b[0m: 'list' object has no attribute 'Adam'"
     ]
    }
   ],
   "source": [
    "# Post-training\n",
    "encZ_mu,encZ_log_sigma,encZ = enc(X, *enc_params)\n",
    "\n",
    "from keras import backend as K\n",
    "epsilon = K.random_normal(shape=(nbatch, nz), mean=0.,\n",
    "                              std=1)\n",
    "sampling_Z = encZ_mu + T.exp(encZ_log_sigma / 2) * epsilon\n",
    "\n",
    "X_tilde = gen(sampling_Z, *gen_params)\n",
    "\n",
    "Z_rand = K.random_normal(shape=(nbatch, nz), mean=0.,std=1)\n",
    "X_p = gen(Z_rand, *gen_params)\n",
    "\n",
    "d_real, xl_real = dis(X, *dis_params)\n",
    "d_gen, xl_gen = dis(X_tilde, *dis_params)\n",
    "d_p, xl_p = dis(X_p, *dis_params)\n",
    "\n",
    "enc_loss_kl = -0.5*T.mean(1+encZ_log_sigma-T.square(encZ_mu)-T.exp(encZ_log_sigma),axis=-1)\n",
    "enc_loss_sim= T.mean(T.sum((xl_gen-xl_real)**2))\n",
    "\n",
    "# d_cost_real = bce(p_real, T.ones(p_real.shape)).mean()\n",
    "# d_cost_gen = bce(p_gen, T.zeros(p_gen.shape)).mean()\n",
    "# g_cost_d = bce(p_gen, T.ones(p_gen.shape)).mean()\n",
    "\n",
    "d_cost_real = bce(d_real, T.zeros(d_real.shape)).mean()\n",
    "d_cost_gen = bce(d_gen, T.ones(d_gen.shape)).mean()\n",
    "d_cost_p = bce(d_p, T.ones(d_p.shape)).mean()\n",
    "\n",
    "GAN_loss = (d_cost_real + d_cost_gen + d_cost_p)\n",
    "enc_cost = T.mean(enc_loss_kl + enc_loss_sim)\n",
    "gen_cost = 0.1*enc_loss_sim - GAN_loss # paper version\n",
    "dis_cost = GAN_loss # paper version\n",
    "\n",
    "\n",
    "cost = [enc_cost,gen_cost,dis_cost]\n",
    "\n",
    "lrt = sharedX(lr)\n",
    "# enc_updater = updates.Adam(lr=lrt, b1=b1, regularizer=updates.Regularizer(l2=l2))\n",
    "# gen_updater = updates.Adam(lr=lrt, b1=b1, regularizer=updates.Regularizer(l2=l2))\n",
    "# dis_updater = updates.Adam(lr=lrt, b1=b1, regularizer=updates.Regularizer(l2=l2))\n",
    "\n",
    "# enc_updates = enc_updater(enc_params, enc_cost)\n",
    "# gen_updates = gen_updater(gen_params, gen_cost)\n",
    "# dis_updates = dis_updater(dis_params, dis_cost)\n",
    "\n",
    "\n",
    "print 'COMPILING'\n",
    "t = time()\n",
    "\n",
    "_train_enc = theano.function([X], enc_cost, updates=enc_updates)\n",
    "_train_gen = theano.function([X,Z_rand,sampling_Z], gen_cost, updates=gen_updates)\n",
    "_train_dis = theano.function([X,Z_rand,sampling_Z], dis_cost, updates=dis_updates)\n",
    "_enc = theano.function([X], [encZ_mu, encZ_log_sigma])\n",
    "_gen = theano.function([sampling_Z], X_tilde)\n",
    "\n",
    "print '%.2f seconds to compile theano functions'%(time()-t)\n",
    "\n",
    "sample_zmb = floatX(np_rng.uniform(-1., 1., size=(200, nz)))\n",
    "\n",
    "\n",
    "n_updates = 0\n",
    "n_check = 0\n",
    "n_epochs = 0\n",
    "n_updates = 0\n",
    "n_examples = 0\n",
    "\n",
    "enc_cost_error=[]\n",
    "gen_cost_error=[]\n",
    "dis_cost_error=[]\n",
    "t = time()\n",
    "iter_error=0\n",
    "for epoch in range(1, 2000):\n",
    "    #trX = shuffle(trX)\n",
    "    for imb in iter_data(trX, size=nbatch):\n",
    "        imb = transform(imb)\n",
    "        zmb = floatX(np_rng.uniform(-1., 1., size=(len(imb), nz)))\n",
    "        \n",
    "        e_cost = _train_enc(imb)\n",
    "        \n",
    "        encZ_mu, encZ_log_sigma = _enc(imb)\n",
    "        epsilon = np.random.normal(0,1, (nbatch, nz))        \n",
    "        sampling_Z = encZ_mu + np.exp(encZ_log_sigma / 2) * epsilon\n",
    "        sampling_Z = sampling_Z.astype(np.float32)\n",
    "        g_cost = _train_gen(imb,zmb,sampling_Z)        \n",
    "        d_cost = _train_dis(imb,zmb,sampling_Z)\n",
    "        \n",
    "        n_examples += len(imb)\n",
    "\n",
    "        iter_error += 1\n",
    "        enc_cost_error.append(e_cost)\n",
    "        gen_cost_error.append(g_cost)\n",
    "        dis_cost_error.append(d_cost)\n",
    "        if (epoch) % 10 == 0:\n",
    "            print '%.0f %.4f %.4f %.4f'%(epoch, e_cost, g_cost, d_cost) "
   ]
  },
  {
   "cell_type": "code",
   "execution_count": null,
   "metadata": {
    "collapsed": false
   },
   "outputs": [
    {
     "name": "stdout",
     "output_type": "stream",
     "text": [
      "1190 2085.1604 172.7672 1.2652\n",
      "1190 592.4294 49.3253 1.1430\n",
      "1190 1567.3107 113.8592 1.0001\n",
      "1190 1065.5604 72.4448 1.1849\n",
      "1190 960.5140 72.0068 1.3491\n",
      "1190 1180.4078 80.9882 1.1763\n",
      "1190 1324.0587 88.9920 1.1596\n",
      "1190 1100.8943 79.6804 1.2499\n",
      "1190 1374.1815 105.5561 1.1769\n",
      "1190 1340.6296 91.7287 1.2929\n"
     ]
    }
   ],
   "source": [
    "for epoch in range(1190, 20000):\n",
    "    #trX = shuffle(trX)\n",
    "    for imb in iter_data(trX, size=nbatch):\n",
    "        imb = transform(imb)\n",
    "        zmb = floatX(np_rng.uniform(-1., 1., size=(len(imb), nz)))\n",
    "        \n",
    "        e_cost = _train_enc(imb)\n",
    "        \n",
    "        encZ_mu, encZ_log_sigma = _enc(imb)\n",
    "        epsilon = np.random.normal(0,1, (nbatch, nz))        \n",
    "        sampling_Z = encZ_mu + np.exp(encZ_log_sigma / 2) * epsilon\n",
    "        sampling_Z = sampling_Z.astype(np.float32)\n",
    "        g_cost = _train_gen(imb,zmb,sampling_Z)        \n",
    "        d_cost = _train_dis(imb,zmb,sampling_Z)\n",
    "        \n",
    "        n_examples += len(imb)\n",
    "\n",
    "        iter_error += 1\n",
    "        enc_cost_error.append(e_cost)\n",
    "        gen_cost_error.append(g_cost)\n",
    "        dis_cost_error.append(d_cost)\n",
    "        if (epoch) % 10 == 0:\n",
    "            print '%.0f %.4f %.4f %.4f'%(epoch, e_cost, g_cost, d_cost)  "
   ]
  },
  {
   "cell_type": "code",
   "execution_count": 11,
   "metadata": {
    "collapsed": false
   },
   "outputs": [
    {
     "data": {
      "text/plain": [
       "<matplotlib.image.AxesImage at 0x3a2a8da0>"
      ]
     },
     "execution_count": 11,
     "metadata": {},
     "output_type": "execute_result"
    },
    {
     "data": {
      "image/png": "[encoded data removed]",
      "text/plain": [
       "<matplotlib.figure.Figure at 0x3bd65978>"
      ]
     },
     "metadata": {},
     "output_type": "display_data"
    }
   ],
   "source": [
    "%matplotlib inline\n",
    "sample_zmb = floatX(np_rng.uniform(-1., 1., size=(100, nz)))\n",
    "samples = np.asarray(_gen(sample_zmb))\n",
    "plt.imshow(samples[0].reshape(28,28),'gray')"
   ]
  },
  {
   "cell_type": "code",
   "execution_count": 8,
   "metadata": {
    "collapsed": false
   },
   "outputs": [],
   "source": [
    "n = 10  # figure with 15x15 digits\n",
    "digit_size = 28\n",
    "figure = np.zeros((digit_size * n, digit_size * n))\n",
    "# we will sample n points within [-15, 15] standard deviations\n",
    "grid_x = np.linspace(-1, 1, n)\n",
    "grid_y = np.linspace(-1, 1, n)\n",
    "\n",
    "for i, yi in enumerate(grid_x):\n",
    "    for j, xi in enumerate(grid_y):\n",
    "        z_sample = np_rng.uniform(-1., 1., size=(100, nz))\n",
    "        z_sample=z_sample.astype(np.float32)\n",
    "        x_decoded = _gen(z_sample)[0]\n",
    "        digit = x_decoded.reshape(digit_size, digit_size)\n",
    "        figure[i * digit_size: (i + 1) * digit_size,\n",
    "               j * digit_size: (j + 1) * digit_size] = digit\n",
    "\n",
    "plt.figure(figsize=(10, 10))\n",
    "plt.imshow(figure,'gray')\n",
    "plt.show()"
   ]
  },
  {
   "cell_type": "code",
   "execution_count": 128,
   "metadata": {
    "collapsed": false
   },
   "outputs": [
    {
     "data": {
      "text/plain": [
       "(array([ 573.,   10.,   10.,    8.,   16.,    7.,    5.,   13.,   14.,  128.]),\n",
       " array([  4.62138674e-19,   9.99975324e-02,   1.99995065e-01,\n",
       "          2.99992597e-01,   3.99990129e-01,   4.99987662e-01,\n",
       "          5.99985194e-01,   6.99982727e-01,   7.99980259e-01,\n",
       "          8.99977791e-01,   9.99975324e-01]),\n",
       " <a list of 10 Patch objects>)"
      ]
     },
     "execution_count": 128,
     "metadata": {},
     "output_type": "execute_result"
    },
    {
     "data": {
      "image/png": "[encoded data removed]",
      "text/plain": [
       "<matplotlib.figure.Figure at 0x72f8d7f0>"
      ]
     },
     "metadata": {},
     "output_type": "display_data"
    }
   ],
   "source": [
    "plt.hist(x_decoded.reshape(-1))"
   ]
  }
 ],
 "metadata": {
  "kernelspec": {
   "display_name": "Python 2",
   "language": "python",
   "name": "python2"
  },
  "language_info": {
   "codemirror_mode": {
    "name": "ipython",
    "version": 2
   },
   "file_extension": ".py",
   "mimetype": "text/x-python",
   "name": "python",
   "nbconvert_exporter": "python",
   "pygments_lexer": "ipython2",
   "version": "2.7.12"
  }
 },
 "nbformat": 4,
 "nbformat_minor": 0
}
